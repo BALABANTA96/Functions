{
  "nbformat": 4,
  "nbformat_minor": 0,
  "metadata": {
    "colab": {
      "provenance": []
    },
    "kernelspec": {
      "name": "python3",
      "display_name": "Python 3"
    },
    "language_info": {
      "name": "python"
    }
  },
  "cells": [
    {
      "cell_type": "markdown",
      "source": [
        "#FUNCTIONS\n"
      ],
      "metadata": {
        "id": "Hl5etDwNJXnW"
      }
    },
    {
      "cell_type": "markdown",
      "source": [
        "1. What is the difference between a function and a method in Python?\n",
        "   - Function: A function is a standalone block of code defined independently, and it is called directly by its name. It can accept arguments and may return a value. Example:  def add(x, y): return x + y result = add(5, 3)  # Calling the function, print(result) # Output: 8\n",
        "   - Method: A method is a function associated with an object or a class. Example:  def __init__(self, name): self.name = name\n",
        "2. Explain the concept of function arguments and parameters in Python.\n",
        "    - In Python, functions can accept inputs, known as arguments, which are passed into the function when it is called.Parameters act as placeholders for the values that will be passed as arguments.\n",
        "    - Example: def greet(name): # name is a parametervprint(f\"Hello, {name}!\" greet(\"Bob\")   # \"Bob\" is an argument\n",
        "3. What are the different ways to define and call a function in Python?\n",
        "   - In Python, functions can be defined and called in several ways:\n",
        "   1. Standard Function Definition:\n",
        "This is the most common way to define a function, using the def keyword. Example-def greet(name):\n",
        "   2. Lambda Functions: Lambda functions are small, anonymous functions defined using the lambda keyword.Example: add = lambda x, y: x + y\n",
        "4. What is the purpose of the `return` statement in a Python function?\n",
        "   - The return statement in Python serves to conclude the execution of a function and optionally transmit a value back to the caller. Example: def add(x, y): return x + y result = add(5, 3) print(result) # Output: 8\n",
        "5. What are iterators in Python and how do they differ from iterables?\n",
        "   - In Python, an iterator is an object that provides a way to iterate through a sequence of values one at a time, while an iterable is an object that can be looped over.\n",
        "   - Example: my_list = [1, 2, 3, 4]  # This is an iterable, my_iterator = iter(my_list)  # Create an iterator from the list\n",
        "6. Explain the concept of generators in Python and how they are defined.\n",
        "   - generator function allows you to declare a function that behaves like an iterator, providing a faster and easier way to create iterators.Generator functions are written using the function* syntax.\n",
        "   - Example: def simple_generator(): yield 1 yield 2\n",
        "7.  What are the advantages of using generators over regular functions?\n",
        "   - Generators have several advantages over regular functions, including memory efficiency, speed, and the ability to create infinite sequences.\n",
        "8. What is a lambda function in Python and when is it typically used?\n",
        "   - A lambda function in Python is a small, anonymous function that's used for short-term tasks.\n",
        "   - When to use:\n",
        "To simplify short-term tasks, to streamline code with higher-order functions like map, filter, or sorted.\n",
        "9.  Explain the purpose and usage of the `map()` function in Python.\n",
        "   - Map in Python is a function that works as an iterator to return a result after applying a function to every item of an iterable (tuple, lists, etc.)\n",
        "   - Example: numbers = [1, 2, 3, 4, 5] squared_numbers = map(lambda x: x * x, numbers) print(list(squared_numbers))  # Output: [1, 4, 9, 16, 25]\n",
        "10. What is the difference between `map()`, `reduce()`, and `filter()` functions in Python?\n",
        "   - map(): Applies a given function to each item in an iterable and returns an iterator that yields the results. It transforms each element of the iterable. Example: umbers = [1, 2, 3, 4] squared_numbers = map(lambda x: x**2, numbers) print(list(squared_numbers))  # Output: [1, 4, 9, 16]\n",
        "   - filter(): Creates an iterator from elements of an iterable for which a function returns True. It selects elements based on a condition. Example: numbers = [1, 2, 3, 4, 5, 6] even_numbers = filter(lambda x: x % 2 == 0, numbers) print(list(even_numbers))  # Output: [2, 4, 6]\n",
        "   - reduce(): Applies a function of two arguments cumulatively to the items of an iterable, from left to right, to reduce the iterable to a single value. It aggregates elements. Example: numbers = [1, 2, 3, 4] product = reduce(lambda x, y: x * y, numbers) print(product)  # Output: 24\n",
        "11. Using pen & Paper write the internal mechanism for sum operation using  reduce function on this given\n",
        "list:[47,11,42,13];\n",
        "   - Inserted Image.\n",
        "\n",
        "\n",
        "\n",
        "\n",
        "\n"
      ],
      "metadata": {
        "id": "qKn4TQSrJeA_"
      }
    },
    {
      "cell_type": "code",
      "source": [
        "#Practical Questions:\n",
        ""
      ],
      "metadata": {
        "id": "f3MKYnjSZusG"
      },
      "execution_count": 1,
      "outputs": []
    },
    {
      "cell_type": "code",
      "source": [
        "#Q.1  Write a Python function that takes a list of numbers as input and returns the sum of all even numbers in the list.\n",
        "\n",
        "def sum_even_numbers(numbers):\n",
        "    even_sum = 0\n",
        "    for num in numbers:\n",
        "        if num % 2 == 0:\n",
        "            even_sum += num\n",
        "    return even_sum\n",
        "    for num in numbers:\n",
        "        if num % 2 == 0:\n",
        "            even_sum += num\n",
        "    return even_sum()\n"
      ],
      "metadata": {
        "id": "JD9LMrDtZ5mX"
      },
      "execution_count": 4,
      "outputs": []
    },
    {
      "cell_type": "code",
      "source": [
        "#Q.2  Create a Python function that accepts a string and returns the reverse of that string\n",
        "def strrev(input_string):\n",
        "    return input_string[::-1]"
      ],
      "metadata": {
        "id": "DDejOhrkd-mb"
      },
      "execution_count": 8,
      "outputs": []
    },
    {
      "cell_type": "code",
      "source": [
        "#Q.3  Implement a Python function that takes a list of integers and returns a new list containing the squares of each number.\n",
        "def square_numbers(numbers):\n",
        "    squared_numbers = [num ** 2 for num in numbers]\n",
        "    return squared_numbers"
      ],
      "metadata": {
        "id": "r9o8vZUhf_IA"
      },
      "execution_count": 10,
      "outputs": []
    },
    {
      "cell_type": "code",
      "source": [
        "#Q.4 Write a Python function that checks if a given number is prime or not from 1 to 200.\n",
        "def is_prime(number):\n",
        "    if number <= 1:\n",
        "        return False\n",
        "    if number <= 3:\n",
        "        return True"
      ],
      "metadata": {
        "id": "M-C9j17Ggbpy"
      },
      "execution_count": 15,
      "outputs": []
    },
    {
      "cell_type": "code",
      "source": [
        "#Q.5 Create an iterator class in Python that generates the Fibonacci sequence up to a specified number of terms.\n",
        "class FibonacciIterator:\n",
        "    def __init__(self, n):\n",
        "        self.n = n\n",
        "        self.a = 0\n",
        "        self.b = 1\n",
        "        self.count = 0\n",
        "\n",
        "    def __iter__(self):\n",
        "        return self\n",
        "\n",
        "    def __next__(self):\n",
        "        if self.count < self.n:\n",
        "            result = self.a\n",
        "            self.a, self.b = self.b, self.a + self.b\n",
        "            self.count += 1\n",
        "            return result\n",
        "        else:\n",
        "            raise StopIteration"
      ],
      "metadata": {
        "id": "gWl77be2hF7p"
      },
      "execution_count": 17,
      "outputs": []
    },
    {
      "cell_type": "code",
      "source": [
        "#Q.6 Write a generator function in Python that yields the powers of 2 up to a given exponent.\n",
        "def power_of_two(exponent):\n",
        "    for i in range(exponent + 1):\n",
        "        yield 2 ** i"
      ],
      "metadata": {
        "id": "uMNyCq4PiJmU"
      },
      "execution_count": 19,
      "outputs": []
    },
    {
      "cell_type": "code",
      "source": [
        "#Q.7 Implement a generator function that reads a file line by line and yields each line as a string.\n",
        "def read_file_lines(file_path):\n",
        "    with open(file_path, 'r') as file:\n",
        "        for line in file:\n",
        "            yield line.strip()"
      ],
      "metadata": {
        "id": "5iqMj1uyihFb"
      },
      "execution_count": 21,
      "outputs": []
    },
    {
      "cell_type": "code",
      "source": [
        "#Q.8 Use a lambda function in Python to sort a list of tuples based on the second element of each tuple.\n",
        "data = [(1, 5), (3, 2), (2, 8), (4, 1)]\n",
        "sorted_data = sorted(data, key=lambda x: x[1])"
      ],
      "metadata": {
        "id": "dcb94IV0i7US"
      },
      "execution_count": 23,
      "outputs": []
    },
    {
      "cell_type": "code",
      "source": [
        "#Q.9 Write a Python program that uses `map()` to convert a list of temperatures from Celsius to Fahrenheit.\n",
        "celsius_temperatures = [0, 10, 20, 30, 40]\n",
        "fahrenheit_temperatures = list(map(lambda c: (c * 9/5) + 32, celsius_temperatures))"
      ],
      "metadata": {
        "id": "K1XkrxqwjdVK"
      },
      "execution_count": 25,
      "outputs": []
    },
    {
      "cell_type": "code",
      "source": [
        "#Q.10  Create a Python program that uses `filter()` to remove all the vowels from a given string.\n",
        "def remove_vowels(string):\n",
        "    vowels = 'aeiouAEIOU'\n",
        "    filtered_string = ''.join(filter(lambda char: char not in vowels, string))\n",
        "    return filtered_string"
      ],
      "metadata": {
        "id": "V6lfxBXQjtum"
      },
      "execution_count": 30,
      "outputs": []
    },
    {
      "cell_type": "code",
      "source": [
        "#Q.11 Imagine an accounting routine used in a book shop. It works on a list with sublists, which look like this:\n",
        "\n",
        "\n",
        "\n",
        "\n",
        "\n",
        "\n",
        "\n",
        "Write a Python program, which returns a list with 2-tuples. Each tuple consists of the order number and the\n",
        "product of the price per item and the quantity. The product should be increased by 10,- € if the value of the\n",
        "order is smaller than 100,00 €.\n",
        "\n",
        "Write a Python program using lambda and map."
      ],
      "metadata": {
        "id": "69CgiivCl4wN"
      },
      "execution_count": null,
      "outputs": []
    }
  ]
}